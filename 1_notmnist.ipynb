{
 "cells": [
  {
   "cell_type": "markdown",
   "metadata": {
    "colab_type": "text",
    "id": "5hIbr52I7Z7U"
   },
   "source": [
    "Deep Learning\n",
    "=============\n",
    "\n",
    "Assignment 1\n",
    "------------\n",
    "\n",
    "The objective of this assignment is to learn about simple data curation practices, and familiarize you with some of the data we'll be reusing later.\n",
    "\n",
    "This notebook uses the [notMNIST](http://yaroslavvb.blogspot.com/2011/09/notmnist-dataset.html) dataset to be used with python experiments. This dataset is designed to look like the classic [MNIST](http://yann.lecun.com/exdb/mnist/) dataset, while looking a little more like real data: it's a harder task, and the data is a lot less 'clean' than MNIST."
   ]
  },
  {
   "cell_type": "code",
   "execution_count": 2,
   "metadata": {
    "cellView": "both",
    "colab": {
     "autoexec": {
      "startup": false,
      "wait_interval": 0
     }
    },
    "colab_type": "code",
    "collapsed": true,
    "id": "apJbCsBHl-2A"
   },
   "outputs": [],
   "source": [
    "# These are all the modules we'll be using later. Make sure you can import them\n",
    "# before proceeding further.\n",
    "from __future__ import print_function\n",
    "import matplotlib.pyplot as plt\n",
    "import numpy as np\n",
    "import os\n",
    "import sys\n",
    "import tarfile\n",
    "from IPython.display import display, Image\n",
    "from scipy import ndimage\n",
    "from sklearn.linear_model import LogisticRegression\n",
    "from six.moves.urllib.request import urlretrieve\n",
    "from six.moves import cPickle as pickle\n",
    "import random\n",
    "import hashlib\n",
    "\n",
    "# Config the matplotlib backend as plotting inline in IPython\n",
    "%matplotlib inline"
   ]
  },
  {
   "cell_type": "markdown",
   "metadata": {
    "colab_type": "text",
    "id": "jNWGtZaXn-5j"
   },
   "source": [
    "First, we'll download the dataset to our local machine. The data consists of characters rendered in a variety of fonts on a 28x28 image. The labels are limited to 'A' through 'J' (10 classes). The training set has about 500k and the testset 19000 labeled examples. Given these sizes, it should be possible to train models quickly on any machine."
   ]
  },
  {
   "cell_type": "code",
   "execution_count": 3,
   "metadata": {
    "cellView": "both",
    "colab": {
     "autoexec": {
      "startup": false,
      "wait_interval": 0
     },
     "output_extras": [
      {
       "item_id": 1
      }
     ]
    },
    "colab_type": "code",
    "collapsed": false,
    "executionInfo": {
     "elapsed": 186058,
     "status": "ok",
     "timestamp": 1444485672507,
     "user": {
      "color": "#1FA15D",
      "displayName": "Vincent Vanhoucke",
      "isAnonymous": false,
      "isMe": true,
      "permissionId": "05076109866853157986",
      "photoUrl": "//lh6.googleusercontent.com/-cCJa7dTDcgQ/AAAAAAAAAAI/AAAAAAAACgw/r2EZ_8oYer4/s50-c-k-no/photo.jpg",
      "sessionId": "2a0a5e044bb03b66",
      "userId": "102167687554210253930"
     },
     "user_tz": 420
    },
    "id": "EYRJ4ICW6-da",
    "outputId": "0d0f85df-155f-4a89-8e7e-ee32df36ec8d"
   },
   "outputs": [
    {
     "name": "stdout",
     "output_type": "stream",
     "text": [
      "Found and verified .\\notMNIST_large.tar.gz\n",
      "Found and verified .\\notMNIST_small.tar.gz\n"
     ]
    }
   ],
   "source": [
    "url = 'https://commondatastorage.googleapis.com/books1000/'\n",
    "last_percent_reported = None\n",
    "data_root = '.' # Change me to store data elsewhere\n",
    "\n",
    "def download_progress_hook(count, blockSize, totalSize):\n",
    "  \"\"\"A hook to report the progress of a download. This is mostly intended for users with\n",
    "  slow internet connections. Reports every 5% change in download progress.\n",
    "  \"\"\"\n",
    "  global last_percent_reported\n",
    "  percent = int(count * blockSize * 100 / totalSize)\n",
    "\n",
    "  if last_percent_reported != percent:\n",
    "    if percent % 5 == 0:\n",
    "      sys.stdout.write(\"%s%%\" % percent)\n",
    "      sys.stdout.flush()\n",
    "    else:\n",
    "      sys.stdout.write(\".\")\n",
    "      sys.stdout.flush()\n",
    "      \n",
    "    last_percent_reported = percent\n",
    "        \n",
    "def maybe_download(filename, expected_bytes, force=False):\n",
    "  \"\"\"Download a file if not present, and make sure it's the right size.\"\"\"\n",
    "  dest_filename = os.path.join(data_root, filename)\n",
    "  if force or not os.path.exists(dest_filename):\n",
    "    print('Attempting to download:', filename) \n",
    "    filename, _ = urlretrieve(url + filename, dest_filename, reporthook=download_progress_hook)\n",
    "    print('\\nDownload Complete!')\n",
    "  statinfo = os.stat(dest_filename)\n",
    "  if statinfo.st_size == expected_bytes:\n",
    "    print('Found and verified', dest_filename)\n",
    "  else:\n",
    "    raise Exception(\n",
    "      'Failed to verify ' + dest_filename + '. Can you get to it with a browser?')\n",
    "  return dest_filename\n",
    "\n",
    "train_filename = maybe_download('notMNIST_large.tar.gz', 247336696)\n",
    "test_filename = maybe_download('notMNIST_small.tar.gz', 8458043)"
   ]
  },
  {
   "cell_type": "code",
   "execution_count": 4,
   "metadata": {
    "cellView": "both",
    "colab": {
     "autoexec": {
      "startup": false,
      "wait_interval": 0
     },
     "output_extras": [
      {
       "item_id": 1
      }
     ]
    },
    "colab_type": "code",
    "collapsed": false,
    "executionInfo": {
     "elapsed": 186055,
     "status": "ok",
     "timestamp": 1444485672525,
     "user": {
      "color": "#1FA15D",
      "displayName": "Vincent Vanhoucke",
      "isAnonymous": false,
      "isMe": true,
      "permissionId": "05076109866853157986",
      "photoUrl": "//lh6.googleusercontent.com/-cCJa7dTDcgQ/AAAAAAAAAAI/AAAAAAAACgw/r2EZ_8oYer4/s50-c-k-no/photo.jpg",
      "sessionId": "2a0a5e044bb03b66",
      "userId": "102167687554210253930"
     },
     "user_tz": 420
    },
    "id": "H8CBE-WZ8nmj",
    "outputId": "ef6c790c-2513-4b09-962e-27c79390c762"
   },
   "outputs": [
    {
     "name": "stdout",
     "output_type": "stream",
     "text": [
      ".\\notMNIST_large already present - Skipping extraction of .\\notMNIST_large.tar.gz.\n",
      "['.\\\\notMNIST_large\\\\A', '.\\\\notMNIST_large\\\\B', '.\\\\notMNIST_large\\\\C', '.\\\\notMNIST_large\\\\D', '.\\\\notMNIST_large\\\\E', '.\\\\notMNIST_large\\\\F', '.\\\\notMNIST_large\\\\G', '.\\\\notMNIST_large\\\\H', '.\\\\notMNIST_large\\\\I', '.\\\\notMNIST_large\\\\J']\n",
      ".\\notMNIST_small already present - Skipping extraction of .\\notMNIST_small.tar.gz.\n",
      "['.\\\\notMNIST_small\\\\A', '.\\\\notMNIST_small\\\\B', '.\\\\notMNIST_small\\\\C', '.\\\\notMNIST_small\\\\D', '.\\\\notMNIST_small\\\\E', '.\\\\notMNIST_small\\\\F', '.\\\\notMNIST_small\\\\G', '.\\\\notMNIST_small\\\\H', '.\\\\notMNIST_small\\\\I', '.\\\\notMNIST_small\\\\J']\n"
     ]
    }
   ],
   "source": [
    "num_classes = 10\n",
    "np.random.seed(133)\n",
    "\n",
    "def maybe_extract(filename, force=False):\n",
    "  root = os.path.splitext(os.path.splitext(filename)[0])[0]  # remove .tar.gz\n",
    "  if os.path.isdir(root) and not force:\n",
    "    # You may override by setting force=True.\n",
    "    print('%s already present - Skipping extraction of %s.' % (root, filename))\n",
    "  else:\n",
    "    print('Extracting data for %s. This may take a while. Please wait.' % root)\n",
    "    tar = tarfile.open(filename)\n",
    "    sys.stdout.flush()\n",
    "    tar.extractall(data_root)\n",
    "    tar.close()\n",
    "  data_folders = [\n",
    "    os.path.join(root, d) for d in sorted(os.listdir(root))\n",
    "    if os.path.isdir(os.path.join(root, d))]\n",
    "  if len(data_folders) != num_classes:\n",
    "    raise Exception(\n",
    "      'Expected %d folders, one per class. Found %d instead.' % (\n",
    "        num_classes, len(data_folders)))\n",
    "  print(data_folders)\n",
    "  return data_folders\n",
    "  \n",
    "train_folders = maybe_extract(train_filename)\n",
    "test_folders = maybe_extract(test_filename)"
   ]
  },
  {
   "cell_type": "markdown",
   "metadata": {
    "colab_type": "text",
    "id": "cC3p0oEyF8QT"
   },
   "source": [
    "Extract the dataset from the compressed .tar.gz file.\n",
    "This should give you a set of directories, labeled A through J."
   ]
  },
  {
   "cell_type": "markdown",
   "metadata": {
    "colab_type": "text",
    "id": "4riXK3IoHgx6"
   },
   "source": [
    "---\n",
    "Problem 1\n",
    "---------\n",
    "\n",
    "Let's take a peek at some of the data to make sure it looks sensible. Each exemplar should be an image of a character A through J rendered in a different font. Display a sample of the images that we just downloaded. Hint: you can use the package IPython.display.\n",
    "\n",
    "---"
   ]
  },
  {
   "cell_type": "code",
   "execution_count": 5,
   "metadata": {
    "collapsed": false
   },
   "outputs": [],
   "source": [
    "def displayData(data_folders, sample_size):\n",
    "    for folder in data_folders:\n",
    "        print(folder)\n",
    "        image_files = os.listdir(folder)\n",
    "        image_sample = random.sample(image_files, sample_size)\n",
    "        for image in image_sample:\n",
    "            image_file = os.path.join(folder, image)\n",
    "            i = Image(filename=image_file)\n",
    "            display(i)"
   ]
  },
  {
   "cell_type": "code",
   "execution_count": 5,
   "metadata": {
    "collapsed": false
   },
   "outputs": [
    {
     "name": "stdout",
     "output_type": "stream",
     "text": [
      ".\\notMNIST_large\\A\n"
     ]
    },
    {
     "data": {
      "image/png": "[encoded data removed]",
      "text/plain": [
       "<IPython.core.display.Image object>"
      ]
     },
     "metadata": {},
     "output_type": "display_data"
    },
    {
     "data": {
      "image/png": "[encoded data removed]",
      "text/plain": [
       "<IPython.core.display.Image object>"
      ]
     },
     "metadata": {},
     "output_type": "display_data"
    },
    {
     "name": "stdout",
     "output_type": "stream",
     "text": [
      ".\\notMNIST_large\\B\n"
     ]
    },
    {
     "data": {
      "image/png": "[encoded data removed]",
      "text/plain": [
       "<IPython.core.display.Image object>"
      ]
     },
     "metadata": {},
     "output_type": "display_data"
    },
    {
     "data": {
      "image/png": "[encoded data removed]",
      "text/plain": [
       "<IPython.core.display.Image object>"
      ]
     },
     "metadata": {},
     "output_type": "display_data"
    },
    {
     "name": "stdout",
     "output_type": "stream",
     "text": [
      ".\\notMNIST_large\\C\n"
     ]
    },
    {
     "data": {
      "image/png": "[encoded data removed]",
      "text/plain": [
       "<IPython.core.display.Image object>"
      ]
     },
     "metadata": {},
     "output_type": "display_data"
    },
    {
     "data": {
      "image/png": "[encoded data removed]",
      "text/plain": [
       "<IPython.core.display.Image object>"
      ]
     },
     "metadata": {},
     "output_type": "display_data"
    },
    {
     "name": "stdout",
     "output_type": "stream",
     "text": [
      ".\\notMNIST_large\\D\n"
     ]
    },
    {
     "data": {
      "image/png": "[encoded data removed]",
      "text/plain": [
       "<IPython.core.display.Image object>"
      ]
     },
     "metadata": {},
     "output_type": "display_data"
    },
    {
     "data": {
      "image/png": "[encoded data removed]",
      "text/plain": [
       "<IPython.core.display.Image object>"
      ]
     },
     "metadata": {},
     "output_type": "display_data"
    },
    {
     "name": "stdout",
     "output_type": "stream",
     "text": [
      ".\\notMNIST_large\\E\n"
     ]
    },
    {
     "data": {
      "image/png": "[encoded data removed]",
      "text/plain": [
       "<IPython.core.display.Image object>"
      ]
     },
     "metadata": {},
     "output_type": "display_data"
    },
    {
     "data": {
      "image/png": "[encoded data removed]",
      "text/plain": [
       "<IPython.core.display.Image object>"
      ]
     },
     "metadata": {},
     "output_type": "display_data"
    },
    {
     "name": "stdout",
     "output_type": "stream",
     "text": [
      ".\\notMNIST_large\\F\n"
     ]
    },
    {
     "data": {
      "image/png": "[encoded data removed]",
      "text/plain": [
       "<IPython.core.display.Image object>"
      ]
     },
     "metadata": {},
     "output_type": "display_data"
    },
    {
     "data": {
      "image/png": "[encoded data removed]",
      "text/plain": [
       "<IPython.core.display.Image object>"
      ]
     },
     "metadata": {},
     "output_type": "display_data"
    },
    {
     "name": "stdout",
     "output_type": "stream",
     "text": [
      ".\\notMNIST_large\\G\n"
     ]
    },
    {
     "data": {
      "image/png": "[encoded data removed]",
      "text/plain": [
       "<IPython.core.display.Image object>"
      ]
     },
     "metadata": {},
     "output_type": "display_data"
    },
    {
     "data": {
      "image/png": "[encoded data removed]",
      "text/plain": [
       "<IPython.core.display.Image object>"
      ]
     },
     "metadata": {},
     "output_type": "display_data"
    },
    {
     "name": "stdout",
     "output_type": "stream",
     "text": [
      ".\\notMNIST_large\\H\n"
     ]
    },
    {
     "data": {
      "image/png": "[encoded data removed]",
      "text/plain": [
       "<IPython.core.display.Image object>"
      ]
     },
     "metadata": {},
     "output_type": "display_data"
    },
    {
     "data": {
      "image/png": "[encoded data removed]",
      "text/plain": [
       "<IPython.core.display.Image object>"
      ]
     },
     "metadata": {},
     "output_type": "display_data"
    },
    {
     "name": "stdout",
     "output_type": "stream",
     "text": [
      ".\\notMNIST_large\\I\n"
     ]
    },
    {
     "data": {
      "image/png": "[encoded data removed]",
      "text/plain": [
       "<IPython.core.display.Image object>"
      ]
     },
     "metadata": {},
     "output_type": "display_data"
    },
    {
     "data": {
      "image/png": "[encoded data removed]",
      "text/plain": [
       "<IPython.core.display.Image object>"
      ]
     },
     "metadata": {},
     "output_type": "display_data"
    },
    {
     "name": "stdout",
     "output_type": "stream",
     "text": [
      ".\\notMNIST_large\\J\n"
     ]
    },
    {
     "data": {
      "image/png": "[encoded data removed]",
      "text/plain": [
       "<IPython.core.display.Image object>"
      ]
     },
     "metadata": {},
     "output_type": "display_data"
    },
    {
     "data": {
      "image/png": "[encoded data removed]",
      "text/plain": [
       "<IPython.core.display.Image object>"
      ]
     },
     "metadata": {},
     "output_type": "display_data"
    },
    {
     "name": "stdout",
     "output_type": "stream",
     "text": [
      "Wall time: 28.4 s\n"
     ]
    }
   ],
   "source": [
    "%time displayData(train_folders, 2)"
   ]
  },
  {
   "cell_type": "code",
   "execution_count": 6,
   "metadata": {
    "collapsed": false
   },
   "outputs": [
    {
     "name": "stdout",
     "output_type": "stream",
     "text": [
      ".\\notMNIST_small\\A\n"
     ]
    },
    {
     "data": {
      "image/png": "[encoded data removed]",
      "text/plain": [
       "<IPython.core.display.Image object>"
      ]
     },
     "metadata": {},
     "output_type": "display_data"
    },
    {
     "data": {
      "image/png": "[encoded data removed]",
      "text/plain": [
       "<IPython.core.display.Image object>"
      ]
     },
     "metadata": {},
     "output_type": "display_data"
    },
    {
     "name": "stdout",
     "output_type": "stream",
     "text": [
      ".\\notMNIST_small\\B\n"
     ]
    },
    {
     "data": {
      "image/png": "[encoded data removed]",
      "text/plain": [
       "<IPython.core.display.Image object>"
      ]
     },
     "metadata": {},
     "output_type": "display_data"
    },
    {
     "data": {
      "image/png": "[encoded data removed]",
      "text/plain": [
       "<IPython.core.display.Image object>"
      ]
     },
     "metadata": {},
     "output_type": "display_data"
    },
    {
     "name": "stdout",
     "output_type": "stream",
     "text": [
      ".\\notMNIST_small\\C\n"
     ]
    },
    {
     "data": {
      "image/png": "[encoded data removed]",
      "text/plain": [
       "<IPython.core.display.Image object>"
      ]
     },
     "metadata": {},
     "output_type": "display_data"
    },
    {
     "data": {
      "image/png": "[encoded data removed]",
      "text/plain": [
       "<IPython.core.display.Image object>"
      ]
     },
     "metadata": {},
     "output_type": "display_data"
    },
    {
     "name": "stdout",
     "output_type": "stream",
     "text": [
      ".\\notMNIST_small\\D\n"
     ]
    },
    {
     "data": {
      "image/png": "[encoded data removed]",
      "text/plain": [
       "<IPython.core.display.Image object>"
      ]
     },
     "metadata": {},
     "output_type": "display_data"
    },
    {
     "data": {
      "image/png": "[encoded data removed]",
      "text/plain": [
       "<IPython.core.display.Image object>"
      ]
     },
     "metadata": {},
     "output_type": "display_data"
    },
    {
     "name": "stdout",
     "output_type": "stream",
     "text": [
      ".\\notMNIST_small\\E\n"
     ]
    },
    {
     "data": {
      "image/png": "[encoded data removed]",
      "text/plain": [
       "<IPython.core.display.Image object>"
      ]
     },
     "metadata": {},
     "output_type": "display_data"
    },
    {
     "data": {
      "image/png": "[encoded data removed]",
      "text/plain": [
       "<IPython.core.display.Image object>"
      ]
     },
     "metadata": {},
     "output_type": "display_data"
    },
    {
     "name": "stdout",
     "output_type": "stream",
     "text": [
      ".\\notMNIST_small\\F\n"
     ]
    },
    {
     "data": {
      "image/png": "[encoded data removed]",
      "text/plain": [
       "<IPython.core.display.Image object>"
      ]
     },
     "metadata": {},
     "output_type": "display_data"
    },
    {
     "data": {
      "image/png": "[encoded data removed]",
      "text/plain": [
       "<IPython.core.display.Image object>"
      ]
     },
     "metadata": {},
     "output_type": "display_data"
    },
    {
     "name": "stdout",
     "output_type": "stream",
     "text": [
      ".\\notMNIST_small\\G\n"
     ]
    },
    {
     "data": {
      "image/png": "[encoded data removed]",
      "text/plain": [
       "<IPython.core.display.Image object>"
      ]
     },
     "metadata": {},
     "output_type": "display_data"
    },
    {
     "data": {
      "image/png": "[encoded data removed]",
      "text/plain": [
       "<IPython.core.display.Image object>"
      ]
     },
     "metadata": {},
     "output_type": "display_data"
    },
    {
     "name": "stdout",
     "output_type": "stream",
     "text": [
      ".\\notMNIST_small\\H\n"
     ]
    },
    {
     "data": {
      "image/png": "[encoded data removed]",
      "text/plain": [
       "<IPython.core.display.Image object>"
      ]
     },
     "metadata": {},
     "output_type": "display_data"
    },
    {
     "data": {
      "image/png": "[encoded data removed]",
      "text/plain": [
       "<IPython.core.display.Image object>"
      ]
     },
     "metadata": {},
     "output_type": "display_data"
    },
    {
     "name": "stdout",
     "output_type": "stream",
     "text": [
      ".\\notMNIST_small\\I\n"
     ]
    },
    {
     "data": {
      "image/png": "[encoded data removed]",
      "text/plain": [
       "<IPython.core.display.Image object>"
      ]
     },
     "metadata": {},
     "output_type": "display_data"
    },
    {
     "data": {
      "image/png": "[encoded data removed]",
      "text/plain": [
       "<IPython.core.display.Image object>"
      ]
     },
     "metadata": {},
     "output_type": "display_data"
    },
    {
     "name": "stdout",
     "output_type": "stream",
     "text": [
      ".\\notMNIST_small\\J\n"
     ]
    },
    {
     "data": {
      "image/png": "[encoded data removed]",
      "text/plain": [
       "<IPython.core.display.Image object>"
      ]
     },
     "metadata": {},
     "output_type": "display_data"
    },
    {
     "data": {
      "image/png": "[encoded data removed]",
      "text/plain": [
       "<IPython.core.display.Image object>"
      ]
     },
     "metadata": {},
     "output_type": "display_data"
    },
    {
     "name": "stdout",
     "output_type": "stream",
     "text": [
      "Wall time: 1.22 s\n"
     ]
    }
   ],
   "source": [
    "%time displayData(test_folders, 2)"
   ]
  },
  {
   "cell_type": "markdown",
   "metadata": {
    "colab_type": "text",
    "id": "PBdkjESPK8tw"
   },
   "source": [
    "Now let's load the data in a more manageable format. Since, depending on your computer setup you might not be able to fit it all in memory, we'll load each class into a separate dataset, store them on disk and curate them independently. Later we'll merge them into a single dataset of manageable size.\n",
    "\n",
    "We'll convert the entire dataset into a 3D array (image index, x, y) of floating point values, normalized to have approximately zero mean and standard deviation ~0.5 to make training easier down the road. \n",
    "\n",
    "A few images might not be readable, we'll just skip them."
   ]
  },
  {
   "cell_type": "code",
   "execution_count": 6,
   "metadata": {
    "cellView": "both",
    "colab": {
     "autoexec": {
      "startup": false,
      "wait_interval": 0
     },
     "output_extras": [
      {
       "item_id": 30
      }
     ]
    },
    "colab_type": "code",
    "collapsed": false,
    "executionInfo": {
     "elapsed": 399874,
     "status": "ok",
     "timestamp": 1444485886378,
     "user": {
      "color": "#1FA15D",
      "displayName": "Vincent Vanhoucke",
      "isAnonymous": false,
      "isMe": true,
      "permissionId": "05076109866853157986",
      "photoUrl": "//lh6.googleusercontent.com/-cCJa7dTDcgQ/AAAAAAAAAAI/AAAAAAAACgw/r2EZ_8oYer4/s50-c-k-no/photo.jpg",
      "sessionId": "2a0a5e044bb03b66",
      "userId": "102167687554210253930"
     },
     "user_tz": 420
    },
    "id": "h7q0XhG3MJdf",
    "outputId": "92c391bb-86ff-431d-9ada-315568a19e59"
   },
   "outputs": [
    {
     "name": "stdout",
     "output_type": "stream",
     "text": [
      ".\\notMNIST_large\\A.pickle already present - Skipping pickling.\n",
      ".\\notMNIST_large\\B.pickle already present - Skipping pickling.\n",
      ".\\notMNIST_large\\C.pickle already present - Skipping pickling.\n",
      ".\\notMNIST_large\\D.pickle already present - Skipping pickling.\n",
      ".\\notMNIST_large\\E.pickle already present - Skipping pickling.\n",
      ".\\notMNIST_large\\F.pickle already present - Skipping pickling.\n",
      ".\\notMNIST_large\\G.pickle already present - Skipping pickling.\n",
      ".\\notMNIST_large\\H.pickle already present - Skipping pickling.\n",
      ".\\notMNIST_large\\I.pickle already present - Skipping pickling.\n",
      ".\\notMNIST_large\\J.pickle already present - Skipping pickling.\n",
      ".\\notMNIST_small\\A.pickle already present - Skipping pickling.\n",
      ".\\notMNIST_small\\B.pickle already present - Skipping pickling.\n",
      ".\\notMNIST_small\\C.pickle already present - Skipping pickling.\n",
      ".\\notMNIST_small\\D.pickle already present - Skipping pickling.\n",
      ".\\notMNIST_small\\E.pickle already present - Skipping pickling.\n",
      ".\\notMNIST_small\\F.pickle already present - Skipping pickling.\n",
      ".\\notMNIST_small\\G.pickle already present - Skipping pickling.\n",
      ".\\notMNIST_small\\H.pickle already present - Skipping pickling.\n",
      ".\\notMNIST_small\\I.pickle already present - Skipping pickling.\n",
      ".\\notMNIST_small\\J.pickle already present - Skipping pickling.\n"
     ]
    }
   ],
   "source": [
    "image_size = 28  # Pixel width and height.\n",
    "pixel_depth = 255.0  # Number of levels per pixel.\n",
    "\n",
    "def load_letter(folder, min_num_images):\n",
    "  \"\"\"Load the data for a single letter label.\"\"\"\n",
    "  image_files = os.listdir(folder)\n",
    "  dataset = np.ndarray(shape=(len(image_files), image_size, image_size),\n",
    "                         dtype=np.float32)\n",
    "  print(folder)\n",
    "  num_images = 0\n",
    "  for image in image_files:\n",
    "    image_file = os.path.join(folder, image)\n",
    "    try:\n",
    "      image_data = (ndimage.imread(image_file).astype(float) - \n",
    "                    pixel_depth / 2) / pixel_depth\n",
    "      if image_data.shape != (image_size, image_size):\n",
    "        raise Exception('Unexpected image shape: %s' % str(image_data.shape))\n",
    "      dataset[num_images, :, :] = image_data\n",
    "      num_images = num_images + 1\n",
    "    except IOError as e:\n",
    "      print('Could not read:', image_file, ':', e, '- it\\'s ok, skipping.')\n",
    "    \n",
    "  dataset = dataset[0:num_images, :, :]\n",
    "  if num_images < min_num_images:\n",
    "    raise Exception('Many fewer images than expected: %d < %d' %\n",
    "                    (num_images, min_num_images))\n",
    "    \n",
    "  print('Full dataset tensor:', dataset.shape)\n",
    "  print('Mean:', np.mean(dataset))\n",
    "  print('Standard deviation:', np.std(dataset))\n",
    "  return dataset\n",
    "        \n",
    "def maybe_pickle(data_folders, min_num_images_per_class, force=False):\n",
    "  dataset_names = []\n",
    "  for folder in data_folders:\n",
    "    set_filename = folder + '.pickle'\n",
    "    dataset_names.append(set_filename)\n",
    "    if os.path.exists(set_filename) and not force:\n",
    "      # You may override by setting force=True.\n",
    "      print('%s already present - Skipping pickling.' % set_filename)\n",
    "    else:\n",
    "      print('Pickling %s.' % set_filename)\n",
    "      dataset = load_letter(folder, min_num_images_per_class)\n",
    "      try:\n",
    "        with open(set_filename, 'wb') as f:\n",
    "          pickle.dump(dataset, f, pickle.HIGHEST_PROTOCOL)\n",
    "      except Exception as e:\n",
    "        print('Unable to save data to', set_filename, ':', e)\n",
    "  \n",
    "  return dataset_names\n",
    "\n",
    "train_datasets = maybe_pickle(train_folders, 45000)\n",
    "test_datasets = maybe_pickle(test_folders, 1800)"
   ]
  },
  {
   "cell_type": "markdown",
   "metadata": {
    "colab_type": "text",
    "id": "vUdbskYE2d87"
   },
   "source": [
    "---\n",
    "Problem 2\n",
    "---------\n",
    "\n",
    "Let's verify that the data still looks good. Displaying a sample of the labels and images from the ndarray. Hint: you can use matplotlib.pyplot.\n",
    "\n",
    "---"
   ]
  },
  {
   "cell_type": "code",
   "execution_count": 7,
   "metadata": {
    "collapsed": false
   },
   "outputs": [],
   "source": [
    "def displaySample(data_folders):\n",
    "    folder = random.sample(data_folders, 1)\n",
    "    pickle_filename = ''.join(folder)+'.pickle'\n",
    "    try:\n",
    "        with open(pickle_filename, 'rb') as f:\n",
    "            dataset = pickle.load(f)\n",
    "    except Exception as e:\n",
    "        print('failed to read data from ',pickle_filename,' : ',e)\n",
    "        return\n",
    "    plt.suptitle(''.join(folder)[-1])\n",
    "    for i, img in enumerate(random.sample(list(dataset),8)):\n",
    "        plt.subplot(2, 4, i+1)\n",
    "        plt.axis('off')\n",
    "        plt.imshow(img)"
   ]
  },
  {
   "cell_type": "code",
   "execution_count": 8,
   "metadata": {
    "collapsed": false
   },
   "outputs": [
    {
     "name": "stdout",
     "output_type": "stream",
     "text": [
      "Wall time: 1.16 s\n"
     ]
    },
    {
     "data": {
      "image/png": "[encoded data removed]",
      "text/plain": [
       "<matplotlib.figure.Figure at 0x13e9f486c88>"
      ]
     },
     "metadata": {},
     "output_type": "display_data"
    }
   ],
   "source": [
    "%time displaySample(train_folders)"
   ]
  },
  {
   "cell_type": "code",
   "execution_count": 9,
   "metadata": {
    "collapsed": false
   },
   "outputs": [
    {
     "name": "stdout",
     "output_type": "stream",
     "text": [
      "Wall time: 592 ms\n"
     ]
    },
    {
     "data": {
      "image/png": "[encoded data removed]",
      "text/plain": [
       "<matplotlib.figure.Figure at 0x13ea6bb7898>"
      ]
     },
     "metadata": {},
     "output_type": "display_data"
    }
   ],
   "source": [
    "%time displaySample(test_folders)"
   ]
  },
  {
   "cell_type": "markdown",
   "metadata": {
    "colab_type": "text",
    "id": "cYznx5jUwzoO"
   },
   "source": [
    "---\n",
    "Problem 3\n",
    "---------\n",
    "Another check: we expect the data to be balanced across classes. Verify that.\n",
    "\n",
    "---"
   ]
  },
  {
   "cell_type": "code",
   "execution_count": 10,
   "metadata": {
    "collapsed": true
   },
   "outputs": [],
   "source": [
    "def diplayNumberImages(data_folders):\n",
    "    for folder in data_folders:\n",
    "        pickle_filename = ''.join(folder)+'.pickle'\n",
    "        try:\n",
    "            with open(pickle_filename, 'rb') as f:\n",
    "                dataset = pickle.load(f)\n",
    "        except Exception as e:\n",
    "            print('Failed to open file ',pickle_filename,' : ',e)\n",
    "            return\n",
    "        print('# of images in ',folder,' : ',len(dataset))"
   ]
  },
  {
   "cell_type": "code",
   "execution_count": 11,
   "metadata": {
    "collapsed": false
   },
   "outputs": [
    {
     "name": "stdout",
     "output_type": "stream",
     "text": [
      "# of images in  .\\notMNIST_large\\A  :  52909\n",
      "# of images in  .\\notMNIST_large\\B  :  52911\n",
      "# of images in  .\\notMNIST_large\\C  :  52912\n",
      "# of images in  .\\notMNIST_large\\D  :  52911\n",
      "# of images in  .\\notMNIST_large\\E  :  52912\n",
      "# of images in  .\\notMNIST_large\\F  :  52912\n",
      "# of images in  .\\notMNIST_large\\G  :  52912\n",
      "# of images in  .\\notMNIST_large\\H  :  52912\n",
      "# of images in  .\\notMNIST_large\\I  :  52912\n",
      "# of images in  .\\notMNIST_large\\J  :  52911\n",
      "Wall time: 5.92 s\n",
      "# of images in  .\\notMNIST_small\\A  :  1872\n",
      "# of images in  .\\notMNIST_small\\B  :  1873\n",
      "# of images in  .\\notMNIST_small\\C  :  1873\n",
      "# of images in  .\\notMNIST_small\\D  :  1873\n",
      "# of images in  .\\notMNIST_small\\E  :  1873\n",
      "# of images in  .\\notMNIST_small\\F  :  1872\n",
      "# of images in  .\\notMNIST_small\\G  :  1872\n",
      "# of images in  .\\notMNIST_small\\H  :  1872\n",
      "# of images in  .\\notMNIST_small\\I  :  1872\n",
      "# of images in  .\\notMNIST_small\\J  :  1872\n",
      "Wall time: 326 ms\n"
     ]
    }
   ],
   "source": [
    "%time diplayNumberImages(train_folders)\n",
    "%time diplayNumberImages(test_folders)"
   ]
  },
  {
   "cell_type": "markdown",
   "metadata": {
    "colab_type": "text",
    "id": "LA7M7K22ynCt"
   },
   "source": [
    "Merge and prune the training data as needed. Depending on your computer setup, you might not be able to fit it all in memory, and you can tune `train_size` as needed. The labels will be stored into a separate array of integers 0 through 9.\n",
    "\n",
    "Also create a validation dataset for hyperparameter tuning."
   ]
  },
  {
   "cell_type": "code",
   "execution_count": 12,
   "metadata": {
    "cellView": "both",
    "colab": {
     "autoexec": {
      "startup": false,
      "wait_interval": 0
     },
     "output_extras": [
      {
       "item_id": 1
      }
     ]
    },
    "colab_type": "code",
    "collapsed": false,
    "executionInfo": {
     "elapsed": 411281,
     "status": "ok",
     "timestamp": 1444485897869,
     "user": {
      "color": "#1FA15D",
      "displayName": "Vincent Vanhoucke",
      "isAnonymous": false,
      "isMe": true,
      "permissionId": "05076109866853157986",
      "photoUrl": "//lh6.googleusercontent.com/-cCJa7dTDcgQ/AAAAAAAAAAI/AAAAAAAACgw/r2EZ_8oYer4/s50-c-k-no/photo.jpg",
      "sessionId": "2a0a5e044bb03b66",
      "userId": "102167687554210253930"
     },
     "user_tz": 420
    },
    "id": "s3mWgZLpyuzq",
    "outputId": "8af66da6-902d-4719-bedc-7c9fb7ae7948"
   },
   "outputs": [
    {
     "name": "stdout",
     "output_type": "stream",
     "text": [
      "Training: (200000, 28, 28) (200000,)\n",
      "Validation: (10000, 28, 28) (10000,)\n",
      "Testing: (10000, 28, 28) (10000,)\n"
     ]
    }
   ],
   "source": [
    "def make_arrays(nb_rows, img_size):\n",
    "  if nb_rows:\n",
    "    dataset = np.ndarray((nb_rows, img_size, img_size), dtype=np.float32)\n",
    "    labels = np.ndarray(nb_rows, dtype=np.int32)\n",
    "  else:\n",
    "    dataset, labels = None, None\n",
    "  return dataset, labels\n",
    "\n",
    "def merge_datasets(pickle_files, train_size, valid_size=0):\n",
    "  num_classes = len(pickle_files)\n",
    "  valid_dataset, valid_labels = make_arrays(valid_size, image_size)\n",
    "  train_dataset, train_labels = make_arrays(train_size, image_size)\n",
    "  vsize_per_class = valid_size // num_classes\n",
    "  tsize_per_class = train_size // num_classes\n",
    "    \n",
    "  start_v, start_t = 0, 0\n",
    "  end_v, end_t = vsize_per_class, tsize_per_class\n",
    "  end_l = vsize_per_class+tsize_per_class\n",
    "  for label, pickle_file in enumerate(pickle_files):       \n",
    "    try:\n",
    "      with open(pickle_file, 'rb') as f:\n",
    "        letter_set = pickle.load(f)\n",
    "        # let's shuffle the letters to have random validation and training set\n",
    "        np.random.shuffle(letter_set)\n",
    "        if valid_dataset is not None:\n",
    "          valid_letter = letter_set[:vsize_per_class, :, :]\n",
    "          valid_dataset[start_v:end_v, :, :] = valid_letter\n",
    "          valid_labels[start_v:end_v] = label\n",
    "          start_v += vsize_per_class\n",
    "          end_v += vsize_per_class\n",
    "                    \n",
    "        train_letter = letter_set[vsize_per_class:end_l, :, :]\n",
    "        train_dataset[start_t:end_t, :, :] = train_letter\n",
    "        train_labels[start_t:end_t] = label\n",
    "        start_t += tsize_per_class\n",
    "        end_t += tsize_per_class\n",
    "    except Exception as e:\n",
    "      print('Unable to process data from', pickle_file, ':', e)\n",
    "      raise\n",
    "    \n",
    "  return valid_dataset, valid_labels, train_dataset, train_labels\n",
    "            \n",
    "            \n",
    "train_size = 200000\n",
    "valid_size = 10000\n",
    "test_size = 10000\n",
    "\n",
    "valid_dataset, valid_labels, train_dataset, train_labels = merge_datasets(\n",
    "  train_datasets, train_size, valid_size)\n",
    "_, _, test_dataset, test_labels = merge_datasets(test_datasets, test_size)\n",
    "\n",
    "print('Training:', train_dataset.shape, train_labels.shape)\n",
    "print('Validation:', valid_dataset.shape, valid_labels.shape)\n",
    "print('Testing:', test_dataset.shape, test_labels.shape)"
   ]
  },
  {
   "cell_type": "markdown",
   "metadata": {
    "colab_type": "text",
    "id": "GPTCnjIcyuKN"
   },
   "source": [
    "Next, we'll randomize the data. It's important to have the labels well shuffled for the training and test distributions to match."
   ]
  },
  {
   "cell_type": "code",
   "execution_count": 13,
   "metadata": {
    "cellView": "both",
    "colab": {
     "autoexec": {
      "startup": false,
      "wait_interval": 0
     }
    },
    "colab_type": "code",
    "collapsed": true,
    "id": "6WZ2l2tN2zOL"
   },
   "outputs": [],
   "source": [
    "def randomize(dataset, labels):\n",
    "  permutation = np.random.permutation(labels.shape[0])\n",
    "  shuffled_dataset = dataset[permutation,:,:]\n",
    "  shuffled_labels = labels[permutation]\n",
    "  return shuffled_dataset, shuffled_labels\n",
    "train_dataset, train_labels = randomize(train_dataset, train_labels)\n",
    "test_dataset, test_labels = randomize(test_dataset, test_labels)\n",
    "valid_dataset, valid_labels = randomize(valid_dataset, valid_labels)"
   ]
  },
  {
   "cell_type": "markdown",
   "metadata": {
    "colab_type": "text",
    "id": "puDUTe6t6USl"
   },
   "source": [
    "---\n",
    "Problem 4\n",
    "---------\n",
    "Convince yourself that the data is still good after shuffling!\n",
    "\n",
    "---"
   ]
  },
  {
   "cell_type": "code",
   "execution_count": 14,
   "metadata": {
    "collapsed": false
   },
   "outputs": [],
   "source": [
    "mylabels = {0: 'A', 1: 'B', 2: 'C', 3: 'D', 4: 'E', 5: 'F', 6: 'G', 7: 'H', 8: 'I', 9: 'J'}\n",
    "\n",
    "def displaySampleSet(dataset, labels):\n",
    "  items = random.sample(range(len(labels)), 8)\n",
    "  for i, item in enumerate(items):\n",
    "    plt.subplot(2, 4, i+1)\n",
    "    plt.axis('off')\n",
    "    plt.title(mylabels[labels[item]])\n",
    "    plt.imshow(dataset[item])"
   ]
  },
  {
   "cell_type": "code",
   "execution_count": 15,
   "metadata": {
    "collapsed": false
   },
   "outputs": [
    {
     "name": "stdout",
     "output_type": "stream",
     "text": [
      "Wall time: 591 ms\n"
     ]
    },
    {
     "data": {
      "image/png": "[encoded data removed]",
      "text/plain": [
       "<matplotlib.figure.Figure at 0x13ea6b39630>"
      ]
     },
     "metadata": {},
     "output_type": "display_data"
    }
   ],
   "source": [
    "%time displaySampleSet(train_dataset, train_labels)"
   ]
  },
  {
   "cell_type": "code",
   "execution_count": 16,
   "metadata": {
    "collapsed": false
   },
   "outputs": [
    {
     "name": "stdout",
     "output_type": "stream",
     "text": [
      "Wall time: 731 ms\n"
     ]
    },
    {
     "data": {
      "image/png": "[encoded data removed]",
      "text/plain": [
       "<matplotlib.figure.Figure at 0x13ea6be36d8>"
      ]
     },
     "metadata": {},
     "output_type": "display_data"
    }
   ],
   "source": [
    "%time displaySampleSet(test_dataset, test_labels)"
   ]
  },
  {
   "cell_type": "code",
   "execution_count": 17,
   "metadata": {
    "collapsed": false
   },
   "outputs": [
    {
     "name": "stdout",
     "output_type": "stream",
     "text": [
      "Wall time: 513 ms\n"
     ]
    },
    {
     "data": {
      "image/png": "[encoded data removed]",
      "text/plain": [
       "<matplotlib.figure.Figure at 0x13ea6c0d128>"
      ]
     },
     "metadata": {},
     "output_type": "display_data"
    }
   ],
   "source": [
    "%time displaySampleSet(valid_dataset, valid_labels)"
   ]
  },
  {
   "cell_type": "markdown",
   "metadata": {
    "colab_type": "text",
    "id": "tIQJaJuwg5Hw"
   },
   "source": [
    "Finally, let's save the data for later reuse:"
   ]
  },
  {
   "cell_type": "code",
   "execution_count": 18,
   "metadata": {
    "cellView": "both",
    "colab": {
     "autoexec": {
      "startup": false,
      "wait_interval": 0
     }
    },
    "colab_type": "code",
    "collapsed": true,
    "id": "QiR_rETzem6C"
   },
   "outputs": [],
   "source": [
    "pickle_file = os.path.join(data_root, 'notMNIST.pickle')\n",
    "\n",
    "try:\n",
    "  f = open(pickle_file, 'wb')\n",
    "  save = {\n",
    "    'train_dataset': train_dataset,\n",
    "    'train_labels': train_labels,\n",
    "    'valid_dataset': valid_dataset,\n",
    "    'valid_labels': valid_labels,\n",
    "    'test_dataset': test_dataset,\n",
    "    'test_labels': test_labels,\n",
    "    }\n",
    "  pickle.dump(save, f, pickle.HIGHEST_PROTOCOL)\n",
    "  f.close()\n",
    "except Exception as e:\n",
    "  print('Unable to save data to', pickle_file, ':', e)\n",
    "  raise"
   ]
  },
  {
   "cell_type": "code",
   "execution_count": 19,
   "metadata": {
    "cellView": "both",
    "colab": {
     "autoexec": {
      "startup": false,
      "wait_interval": 0
     },
     "output_extras": [
      {
       "item_id": 1
      }
     ]
    },
    "colab_type": "code",
    "collapsed": false,
    "executionInfo": {
     "elapsed": 413065,
     "status": "ok",
     "timestamp": 1444485899688,
     "user": {
      "color": "#1FA15D",
      "displayName": "Vincent Vanhoucke",
      "isAnonymous": false,
      "isMe": true,
      "permissionId": "05076109866853157986",
      "photoUrl": "//lh6.googleusercontent.com/-cCJa7dTDcgQ/AAAAAAAAAAI/AAAAAAAACgw/r2EZ_8oYer4/s50-c-k-no/photo.jpg",
      "sessionId": "2a0a5e044bb03b66",
      "userId": "102167687554210253930"
     },
     "user_tz": 420
    },
    "id": "hQbLjrW_iT39",
    "outputId": "b440efc6-5ee1-4cbc-d02d-93db44ebd956"
   },
   "outputs": [
    {
     "name": "stdout",
     "output_type": "stream",
     "text": [
      "Compressed pickle size: 690800512\n"
     ]
    }
   ],
   "source": [
    "statinfo = os.stat(pickle_file)\n",
    "print('Compressed pickle size:', statinfo.st_size)"
   ]
  },
  {
   "cell_type": "markdown",
   "metadata": {
    "colab_type": "text",
    "id": "gE_cRAQB33lk"
   },
   "source": [
    "---\n",
    "Problem 5\n",
    "---------\n",
    "\n",
    "By construction, this dataset might contain a lot of overlapping samples, including training data that's also contained in the validation and test set! Overlap between training and test can skew the results if you expect to use your model in an environment where there is never an overlap, but are actually ok if you expect to see training samples recur when you use it.\n",
    "Measure how much overlap there is between training, validation and test samples.\n",
    "\n",
    "Optional questions:\n",
    "- What about near duplicates between datasets? (images that are almost identical)\n",
    "- Create a sanitized validation and test set, and compare your accuracy on those in subsequent assignments.\n",
    "---"
   ]
  },
  {
   "cell_type": "code",
   "execution_count": 20,
   "metadata": {
    "collapsed": true
   },
   "outputs": [],
   "source": [
    "def displayOverlap(overlap, sourceDataset, targetDataset):\n",
    "    item = random.choice(overlap.keys())\n",
    "    imgs = np.concatenate(([sourceDataset[item]], targetDataset[overlap[item][0:7]]))\n",
    "    plt.suptitle(item)\n",
    "    for i, img in enumerate(imgs):\n",
    "        plt.subplot(2, 4, i+1)\n",
    "        plt.axis('off')\n",
    "        plt.imshow(img)"
   ]
  },
  {
   "cell_type": "code",
   "execution_count": null,
   "metadata": {
    "collapsed": true
   },
   "outputs": [],
   "source": [
    "def extractOverlap(dataset1, dataset2):\n",
    "    datasetHash1 = np.array([hashlib.sha256(img).hexdigest() for img in dataset1])\n",
    "    datasetHash2 = np.array([hashlib.sha256(img).hexdigest() for img in dataset2])\n",
    "    overlap = []\n",
    "    for i, hash1 in enumerate(datasetHash1):\n",
    "        duplicates = np.where(dataHas2 == hash1)\n",
    "        if len(duplicates[0]):\n",
    "            overlap[i] = duplicates[0]\n",
    "    return overlap"
   ]
  },
  {
   "cell_type": "code",
   "execution_count": null,
   "metadata": {
    "collapsed": false
   },
   "outputs": [],
   "source": [
    "%time overlapTestTrain = extractOverlap(test_dataset, train_dataset)"
   ]
  },
  {
   "cell_type": "code",
   "execution_count": 35,
   "metadata": {
    "collapsed": false
   },
   "outputs": [
    {
     "name": "stdout",
     "output_type": "stream",
     "text": [
      "Number of overlaps: 24\n",
      "key[ 1 ] [67292]\n",
      "key[ 132 ] [64465]\n",
      "key[ 69 ] [73871, 77334, 84858, 167728]\n",
      "key[ 198 ] [36, 355, 577, 689, 786, 838, 1054, 1121, 1309, 1368, 1371, 1418, 1600, 1868, 1896, 1951, 2144, 2167, 2409, 2476, 2688, 2861, 2916, 3039, 3076, 3217, 3232, 3311, 3328, 3365, 3504, 3597, 3721, 3993, 4062, 4070, 4173, 4324, 4339, 4409, 4413, 4478, 4488, 4495, 4557, 4732, 4857, 4942, 5084, 5095, 5161, 5286, 5384, 5409, 5442, 5760, 5946, 6015, 6052, 6184, 6205, 6263, 6346, 6494, 6676, 6788, 6831, 7049, 7098, 7099, 7218, 7420, 7516, 7620, 7703, 7823, 7876, 7958, 8008, 8040, 8376, 8450, 8532, 8674, 8710, 9106, 9120, 9143, 9256, 9276, 9541, 9555, 9677, 9770, 10021, 10025, 10131, 10424, 10428, 10620, 10823, 10913, 11052, 11106, 11182, 11328, 11353, 11388, 11540, 11554, 11969, 12200, 12338, 12352, 12354, 12383, 12428, 12524, 12543, 12573, 12595, 12630, 12655, 12770, 12796, 12823, 12829, 13078, 13161, 13336, 13351, 13394, 13657, 13743, 13823, 14166, 14188, 14217, 14332, 14474, 14534, 14753, 14794, 14828, 14832, 15028, 15082, 15214, 15262, 15289, 15293, 15314, 15379, 15459, 15491, 15507, 15611, 15880, 15888, 15924, 16014, 16074, 16109, 16111, 16441, 16651, 16711, 16841, 16932, 16985, 17231, 17325, 17355, 17590, 17620, 17743, 17899, 17925, 18023, 18289, 18304, 18318, 18341, 18518, 18614, 18823, 19114, 19437, 19532, 19571, 19662, 19909, 19933, 20052, 20064, 20135, 20154, 20177, 20212, 20219, 20283, 20300, 20307, 20434, 20509, 20570, 20713, 20877, 20935, 20964, 20972, 21024, 21137, 21319, 21400, 21407, 21440, 21458, 21531, 21564, 21566, 21682, 21773, 21911, 21966, 22009, 22043, 22232, 22474, 22506, 22598, 22616, 22627, 22637, 22796, 22952, 23073, 23111, 23157, 23200, 23319, 23757, 23922, 23970, 24085, 24115, 24121, 24182, 24305, 24648, 24659, 24822, 24929, 25080, 25152, 25226, 25276, 25331, 25394, 25439, 25498, 25613, 25755, 25871, 25891, 25952, 26257, 26376, 26615, 26964, 27221, 27246, 27338, 27556, 27565, 27623, 27807, 28000, 28060, 28134, 28149, 28151, 28152, 28165, 28200, 28274, 28336, 28361, 28362, 28570, 28600, 28624, 28655, 28689, 28709, 28722, 28734, 29068, 29112, 29140, 29203, 29205, 29267, 29289, 29382, 29550, 29850, 29867, 29960, 29984, 30047, 30139, 30142, 30235, 30384, 30688, 30715, 30964, 30998, 31135, 31166, 31178, 31355, 31834, 31899, 31928, 31930, 31994, 32006, 32009, 32098, 32186, 32319, 32323, 32324, 32575, 32599, 32862, 32989, 33013, 33179, 33185, 33240, 33274, 33530, 33590, 33708, 33762, 33810, 33958, 34120, 34289, 34402, 34501, 34507, 34542, 34724, 34776, 34783, 34898, 34951, 34961, 34964, 34990, 35027, 35261, 35283, 35342, 35629, 35637, 36043, 36186, 36239, 36285, 36644, 36682, 37143, 37280, 37532, 37692, 37819, 37889, 38065, 38299, 38502, 38503, 38552, 38588, 38637, 38816, 39130, 39133, 39151, 39227, 39304, 39435, 39467, 39473, 39487, 39523, 39542, 39626, 39736, 39760, 39770, 39772, 40043, 40142, 40160, 40218, 40274, 40420, 40529, 40774, 40915, 40945, 41060, 41175, 41177, 41290, 41342, 41402, 41536, 41903, 41929, 41981, 42117, 42183, 42265, 42305, 42350, 42371, 42468, 42519, 42534, 42824, 42887, 42935, 42953, 42989, 43138, 43302, 43433, 43462, 43486, 43561, 43598, 43664, 43666, 43819, 43833, 43854, 43927, 44037, 44092, 44237, 44379, 44644, 44764, 45207, 45277, 45376, 45470, 45698, 45748, 45988, 46051, 46133, 46511, 46526, 46584, 46701, 47067, 47120, 47289, 47309, 47401, 47559, 47642, 47665, 47820, 47921, 48307, 48438, 48586, 48634, 48652, 48662, 48679, 48715, 48852, 48875, 48929, 49068, 49079, 49328, 49412, 49486, 49661, 49690, 49741, 49954, 49993, 50000, 50067, 50318, 50380, 50588, 50699, 50975, 51371, 51380, 51610, 51885, 51928, 52249, 52255, 52330, 52475, 52514, 52640, 52666, 52794, 52815, 52831, 52863, 52948, 53053, 53078, 53203, 53225, 53257, 53265, 53272, 53290, 53397, 53400, 53536, 53719, 53763, 53798, 53816, 53893, 53917, 54171, 54198, 54229, 54421, 54504, 54514, 54540, 54825, 54837, 55200, 55289, 55397, 55600, 55623, 55639, 55644, 55779, 55796, 55837, 55973, 55976, 56020, 56093, 56244, 56309, 56479, 56579, 56591, 56595, 56640, 56738, 56756, 56908, 56936, 57032, 57237, 57242, 57261, 57517, 57559, 57589, 57901, 57937, 58059, 58082, 58094, 58178, 58179, 58202, 58323, 58400, 58445, 58627, 58636, 58703, 58706, 58753, 58991, 59200, 59257, 59332, 59351, 59749, 60000, 60025, 60200, 60247, 60265, 60301, 60350, 60400, 60535, 60666, 60837, 61175, 61265, 61344, 61393, 61761, 62039, 62060, 62203, 62254, 62317, 62405, 62441, 62505, 62600, 63023, 63034, 63239, 63268, 63384, 63417, 63458, 63599, 63658, 63676, 63757, 63877, 63903, 63907, 63974, 63976, 64151, 64199, 64305, 64416, 64478, 64549, 64688, 64708, 64785, 64839, 64908, 64914, 65612, 65640, 65852, 65922, 65961, 66032, 66112, 66114, 66132, 66539, 66568, 66632, 66633, 66654, 66703, 66817, 66941, 66970, 66997, 67006, 67013, 67224, 67293, 67339, 67628, 67720, 67733, 67745, 67823, 67863, 67890, 67918, 68051, 68174, 68322, 68499, 68548, 68708, 68730, 68846, 68899, 68918, 69011, 69105, 69349, 69451, 69507, 69526, 69717, 69723, 70126, 70190, 70213, 70254, 70311, 70517, 70584, 70628, 70661, 70899, 70944, 71026, 71053, 71093, 71200, 71235, 71496, 72098, 72436, 72500, 72614, 72621, 72668, 72783, 72805, 72865, 73049, 73316, 73364, 73394, 73400, 73444, 73461, 73480, 73567, 73570, 73576, 73578, 73680, 73734, 73756, 73759, 73773, 73947, 74106, 74112, 74158, 74166, 74175, 74298, 74475, 74631, 74690, 74710, 74764, 74814, 74924, 75039, 75143, 75200, 75325, 75388, 75580, 75701, 75782, 75859, 75864, 75899, 75945, 76072, 76101, 76145, 76157, 76445, 76590, 76592, 76736, 76788, 76835, 76843, 76887, 76928, 76976, 76998, 77025, 77027, 77056, 77268, 77393, 77467, 77468, 77479, 77528, 77747, 77789, 77834, 77893, 77946, 78063, 78111, 78174, 78185, 78217, 78259, 78266, 78275, 78289, 78342, 78346, 78398, 78409, 78529, 78641, 78644, 78662, 78680, 78748, 78874, 79119, 79133, 79682, 79783, 79821, 79853, 79887, 79952, 79990, 80201, 80235, 80250, 80282, 80422, 80437, 80490, 80599, 80674, 80706, 80710, 80759, 80849, 81097, 81125, 81219, 81297, 81303, 81309, 81345, 81419, 81450, 81484, 81491, 81664, 81837, 81905, 82069, 82163, 82338, 82420, 82508, 82636, 82824, 82851, 82865, 82877, 82907, 83001, 83223, 83415, 83537, 83545, 83649, 83715, 83727, 83903, 84023, 84116, 84278, 84303, 84542, 84558, 84570, 84724, 84780, 84790, 85095, 85106, 85708, 85811, 85820, 85871, 85922, 85956, 85968, 86079, 86131, 86165, 86235, 86266, 86375, 86380, 86456, 86560, 86677, 86696, 86705, 86714, 86722, 86820, 86899, 86984, 87034, 87165, 87196, 87299, 87361, 87401, 87468, 87748, 87908, 87966, 88138, 88154, 88162, 88207, 88339, 88740, 88827, 88905, 88988, 89237, 89241, 89250, 89584, 89643, 89679, 89833, 89878, 89976, 90056, 90118, 90160, 90414, 90654, 90721, 90793, 90811, 91087, 91154, 91265, 91337, 91372, 91430, 91467, 91482, 91534, 91633, 91987, 92023, 92123, 92334, 92340, 92460, 92595, 92654, 92702, 92898, 92915, 92921, 93059, 93374, 93408, 93541, 93596, 93608, 93657, 93807, 94071, 94099, 94156, 94163, 94384, 94521, 94613, 94845, 95082, 95179, 95304, 95474, 95481, 95538, 95539, 95620, 95690, 95694, 95718, 95779, 95809, 96373, 96403, 96448, 96624, 96781, 96998, 97079, 97091, 97149, 97398, 97674, 97703, 97718, 97789, 97849, 97921, 97956, 97959, 97977, 98063, 98069, 98171, 98318, 98361, 98474, 98674, 98732, 98740, 98764, 98795, 98830, 98832, 98944, 99118, 99250, 99287, 99363, 99376, 99432, 99578, 99584, 99626, 99682, 100196, 100203, 100224, 100253, 100315, 100359, 100379, 100426, 100442, 100446, 100523, 100601, 100715, 100811, 100814, 101013, 101238, 101322, 101454, 101766, 101799, 102066, 102171, 102227, 102290, 102396, 102449, 102490, 102605, 102734, 102812, 102853, 103074, 103171, 103417, 103536, 103617, 103707, 103732, 103864, 103878, 103919, 104032, 104068, 104113, 104172, 104225, 104304, 104449, 104554, 104577, 104583, 104787, 104800, 104822, 105219, 105528, 105712, 105719, 105752, 105840, 105917, 105979, 106004, 106042, 106239, 106333, 106532, 106610, 106978, 107037, 107461, 107490, 107604, 107677, 107714, 107730, 107749, 107811, 108380, 108465, 108539, 108709, 108753, 108772, 109013, 109122, 109149, 109273, 109502, 109680, 109743, 109807, 109820, 109885, 109926, 109947, 110051, 110062, 110088, 110323, 110363, 110381, 110468, 110553, 110603, 110613, 110715, 110871, 110891, 110986, 111214, 111341, 111496, 111701, 111730, 111995, 112005, 112017, 112276, 112345, 112470, 112536, 112551, 112863, 112889, 112966, 113019, 113281, 113410, 113459, 113531, 113680, 113794, 113818, 113859, 113929, 114055, 114381, 114461, 114507, 114529, 114627, 114697, 114727, 114815, 114849, 114897, 115256, 115351, 115381, 115937, 115950, 116039, 116051, 116056, 116577, 116641, 116851, 117023, 117113, 117192, 117283, 117439, 117589, 117630, 117821, 117857, 117911, 117969, 118206, 118550, 118587, 118639, 118640, 118680, 118783, 118892, 118910, 119054, 119099, 119230, 119322, 119634, 119636, 119667, 119900, 119904, 119982, 119991, 120192, 120258, 120402, 120520, 120683, 120733, 120764, 120892, 121049, 121082, 121231, 121407, 121506, 121564, 121570, 121831, 121842, 121938, 122055, 122111, 122578, 122654, 122734, 122798, 122890, 123004, 123273, 123366, 123520, 123560, 123565, 123604, 123646, 123799, 123854, 123968, 124060, 124108, 124193, 124251, 124446, 124451, 124462, 124533, 124543, 124585, 124868, 125036, 125038, 125171, 125269, 125283, 125347, 125387, 125489, 125545, 125556, 125622, 125654, 125702, 125793, 125971, 126017, 126249, 126279, 126407, 126415, 126567, 126994, 127049, 127133, 127273, 127437, 127545, 127599, 127663, 127700, 127857, 127901, 128098, 128125, 128280, 128289, 128713, 128803, 128807, 128827, 129047, 129211, 129265, 129442, 129445, 129514, 129528, 129581, 129980, 129989, 130016, 130174, 130211, 130341, 130361, 130401, 130588, 130598, 130684, 130753, 130774, 130850, 130897, 130911, 131091, 131157, 131200, 131410, 131424, 131432, 131725, 131799, 131908, 131972, 131995, 132006, 132257, 132296, 132374, 132531, 132572, 132621, 132623, 132728, 132843, 132939, 133097, 133375, 133393, 133476, 133482, 133514, 133559, 133623, 133667, 133723, 133746, 134092, 134115, 134136, 134230, 134277, 134282, 134332, 134415, 134444, 134505, 134662, 134699, 135113, 135182, 135191, 135535, 135696, 135724, 135833, 135916, 135981, 136337, 136349, 136654, 136717, 136787, 136800, 136801, 136997, 137105, 137116, 137125, 137330, 137477, 137485, 137560, 137685, 137692, 137706, 137739, 137825, 137887, 137939, 138023, 138182, 138315, 138377, 138408, 138558, 138579, 138671, 138678, 138807, 138825, 138852, 139004, 139108, 139377, 139475, 139590, 139667, 139815, 139904, 139972, 140105, 140303, 140348, 140418, 140544, 140670, 140683, 140739, 141126, 141129, 141136, 141234, 141307, 141327, 141501, 141588, 141721, 141736, 141795, 141847, 141851, 142086, 142188, 142248, 142262, 142354, 142382, 142411, 142412, 142587, 142796, 142810, 142850, 142963, 142976, 143022, 143060, 143092, 143219, 143373, 143462, 143534, 143562, 143596, 143662, 143686, 143718, 143852, 143975, 144100, 144108, 144139, 144179, 144277, 144342, 144376, 144440, 144467, 144472, 144501, 144728, 144877, 145293, 145339, 145360, 145380, 145618, 145784, 145846, 146136, 146190, 146297, 146562, 146566, 146664, 146683, 146763, 146793, 146818, 146825, 146880, 147052, 147328, 147526, 147960, 147972, 148087, 148380, 148445, 148641, 148908, 148993, 149006, 149016, 149125, 149426, 149474, 149499, 149563, 149643, 149666, 149896, 149899, 149908, 149937, 150039, 150098, 150120, 150421, 150431, 150550, 150730, 150763, 150814, 150876, 150973, 151100, 151153, 151261, 151274, 151324, 151442, 151473, 151482, 151967, 152021, 152214, 152285, 152392, 152402, 152430, 152469, 152584, 152730, 152845, 152985, 153283, 153319, 153366, 153438, 153709, 153725, 153729, 153804, 153961, 154021, 154036, 154083, 154084, 154154, 154342, 154402, 154421, 154557, 154652, 154752, 154775, 155009, 155146, 155283, 155327, 155353, 155414, 155458, 155552, 155955, 156004, 156225, 156611, 156721, 156782, 156988, 157042, 157059, 157158, 157217, 157240, 157246, 157354, 157379, 157794, 158222, 158262, 158400, 158658, 158911, 158940, 159176, 159180, 159202, 159306, 159310, 159456, 159493, 159634, 159637, 159678, 159909, 159912, 160089, 160120, 160247, 160363, 160530, 160668, 160763, 160966, 161074, 161104, 161234, 161590, 161779, 161785, 161970, 161976, 162087, 162154, 162230, 162491, 162543, 162645, 162658, 162674, 162842, 162882, 163010, 163016, 163037, 163084, 163164, 163204, 163305, 163306, 163367, 163552, 163627, 163727, 163820, 163822, 163912, 163990, 164113, 164596, 164675, 164684, 164740, 164774, 164939, 164962, 165042, 165191, 165200, 165325, 165406, 165430, 165527, 165593, 165703, 165719, 165930, 166302, 166501, 166502, 166690, 166860, 166924, 166953, 166972, 167028, 167093, 167106, 167117, 167324, 167439, 167551, 167636, 167784, 167893, 167985, 168014, 168016, 168091, 168283, 168450, 168591, 168726, 169005, 169015, 169132, 169182, 169257, 169311, 169449, 169582, 169911, 170065, 170179, 170398, 170545, 170625, 170642, 170669, 170698, 170737, 170938, 171142, 171156, 171321, 171330, 171331, 171363, 171487, 171569, 171659, 171730, 171840, 171994, 172006, 172176, 172289, 172477, 172556, 172568, 172861, 173202, 173273, 173493, 173495, 173502, 173547, 173618, 174104, 174131, 174385, 174414, 174488, 174536, 174556, 174841, 174857, 175079, 175122, 175252, 175323, 175462, 175490, 175536, 175539, 175697, 175700, 175729, 175818, 175848, 175892, 176277, 176675, 176740, 177085, 177216, 177295, 177330, 177344, 177460, 177646, 177777, 178180, 178229, 178478, 178540, 178826, 178841, 179093, 179152, 179220, 179299, 179400, 179504, 179573, 179616, 179666, 179687, 179692, 179741, 179809, 179824, 179860, 179898, 179954, 179975, 180194, 180312, 180405, 180428, 180462, 180610, 180825, 180911, 180975, 180979, 181069, 181173, 181222, 181462, 181468, 181514, 181595, 181691, 181712, 181723, 181734, 181740, 181816, 181858, 181959, 182088, 182180, 182303, 182534, 182774, 182863, 183001, 183033, 183101, 183113, 183150, 183186, 183234, 183252, 183321, 183354, 183356, 183391, 183555, 183608, 183700, 183729, 183967, 184074, 184082, 184201, 184242, 184304, 184516, 184663, 184887, 185067, 185215, 185315, 185337, 185345, 185455, 185546, 185594, 185728, 185740, 185902, 185934, 185973, 186044, 186047, 186059, 186151, 186263, 186361, 186457, 186468, 186501, 186553, 187035, 187080, 187088, 187257, 187447, 187582, 187677, 187717, 187797, 187857, 188111, 188300, 188403, 188563, 188694, 188852, 188953, 189048, 189112, 189122, 189602, 189645, 189801, 189944, 190175, 190212, 190235, 190242, 190278, 190337, 190361, 190520, 190713, 190730, 190734, 190927, 190941, 190992, 191064, 191086, 191220, 191259, 191453, 191516, 191754, 191817, 191841, 191848, 191902, 191904, 191914, 192153, 192223, 192276, 192339, 192588, 192655, 192673, 192716, 192858, 192902, 192939, 193050, 193111, 193301, 193393, 193420, 193488, 193514, 193524, 193590, 193709, 193799, 193885, 193948, 193962, 194318, 194336, 194452, 194563, 194586, 194606, 194609, 194620, 194631, 194639, 194658, 194682, 195038, 195090, 195103, 195246, 195292, 195310, 195619, 195695, 195714, 195756, 195761, 195763, 196087, 196206, 196553, 196746, 196932, 196996, 197140, 197208, 197377, 197417, 197557, 197603, 197637, 197759, 197859, 197873, 198049, 198123, 198213, 198413, 198564, 198686, 198813, 198849, 198999, 199105, 199111, 199117, 199528, 199534, 199850, 199962]\n",
      "key[ 75 ] [122618]\n",
      "key[ 143 ] [13938]\n",
      "key[ 18 ] [135001]\n",
      "key[ 87 ] [109824]\n",
      "key[ 27 ] [113331]\n",
      "key[ 29 ] [106158]\n",
      "key[ 32 ] [73457]\n",
      "key[ 34 ] [17610]\n",
      "key[ 187 ] [15221]\n",
      "key[ 37 ] [151717]\n",
      "key[ 39 ] [80153, 170463]\n",
      "key[ 106 ] [134967]\n",
      "key[ 43 ] [37524]\n",
      "key[ 49 ] [13185]\n",
      "key[ 51 ] [69380]\n",
      "key[ 54 ] [91225, 162256]\n",
      "key[ 55 ] [121717]\n",
      "key[ 160 ] [12188, 32638]\n",
      "key[ 123 ] [72804, 170040, 183524]\n",
      "key[ 63 ] [36, 355, 577, 689, 786, 838, 1054, 1121, 1309, 1368, 1371, 1418, 1600, 1868, 1896, 1951, 2144, 2167, 2409, 2476, 2688, 2861, 2916, 3039, 3076, 3217, 3232, 3311, 3328, 3365, 3504, 3597, 3721, 3993, 4062, 4070, 4173, 4324, 4339, 4409, 4413, 4478, 4488, 4495, 4557, 4732, 4857, 4942, 5084, 5095, 5161, 5286, 5384, 5409, 5442, 5760, 5946, 6015, 6052, 6184, 6205, 6263, 6346, 6494, 6676, 6788, 6831, 7049, 7098, 7099, 7218, 7420, 7516, 7620, 7703, 7823, 7876, 7958, 8008, 8040, 8376, 8450, 8532, 8674, 8710, 9106, 9120, 9143, 9256, 9276, 9541, 9555, 9677, 9770, 10021, 10025, 10131, 10424, 10428, 10620, 10823, 10913, 11052, 11106, 11182, 11328, 11353, 11388, 11540, 11554, 11969, 12200, 12338, 12352, 12354, 12383, 12428, 12524, 12543, 12573, 12595, 12630, 12655, 12770, 12796, 12823, 12829, 13078, 13161, 13336, 13351, 13394, 13657, 13743, 13823, 14166, 14188, 14217, 14332, 14474, 14534, 14753, 14794, 14828, 14832, 15028, 15082, 15214, 15262, 15289, 15293, 15314, 15379, 15459, 15491, 15507, 15611, 15880, 15888, 15924, 16014, 16074, 16109, 16111, 16441, 16651, 16711, 16841, 16932, 16985, 17231, 17325, 17355, 17590, 17620, 17743, 17899, 17925, 18023, 18289, 18304, 18318, 18341, 18518, 18614, 18823, 19114, 19437, 19532, 19571, 19662, 19909, 19933, 20052, 20064, 20135, 20154, 20177, 20212, 20219, 20283, 20300, 20307, 20434, 20509, 20570, 20713, 20877, 20935, 20964, 20972, 21024, 21137, 21319, 21400, 21407, 21440, 21458, 21531, 21564, 21566, 21682, 21773, 21911, 21966, 22009, 22043, 22232, 22474, 22506, 22598, 22616, 22627, 22637, 22796, 22952, 23073, 23111, 23157, 23200, 23319, 23757, 23922, 23970, 24085, 24115, 24121, 24182, 24305, 24648, 24659, 24822, 24929, 25080, 25152, 25226, 25276, 25331, 25394, 25439, 25498, 25613, 25755, 25871, 25891, 25952, 26257, 26376, 26615, 26964, 27221, 27246, 27338, 27556, 27565, 27623, 27807, 28000, 28060, 28134, 28149, 28151, 28152, 28165, 28200, 28274, 28336, 28361, 28362, 28570, 28600, 28624, 28655, 28689, 28709, 28722, 28734, 29068, 29112, 29140, 29203, 29205, 29267, 29289, 29382, 29550, 29850, 29867, 29960, 29984, 30047, 30139, 30142, 30235, 30384, 30688, 30715, 30964, 30998, 31135, 31166, 31178, 31355, 31834, 31899, 31928, 31930, 31994, 32006, 32009, 32098, 32186, 32319, 32323, 32324, 32575, 32599, 32862, 32989, 33013, 33179, 33185, 33240, 33274, 33530, 33590, 33708, 33762, 33810, 33958, 34120, 34289, 34402, 34501, 34507, 34542, 34724, 34776, 34783, 34898, 34951, 34961, 34964, 34990, 35027, 35261, 35283, 35342, 35629, 35637, 36043, 36186, 36239, 36285, 36644, 36682, 37143, 37280, 37532, 37692, 37819, 37889, 38065, 38299, 38502, 38503, 38552, 38588, 38637, 38816, 39130, 39133, 39151, 39227, 39304, 39435, 39467, 39473, 39487, 39523, 39542, 39626, 39736, 39760, 39770, 39772, 40043, 40142, 40160, 40218, 40274, 40420, 40529, 40774, 40915, 40945, 41060, 41175, 41177, 41290, 41342, 41402, 41536, 41903, 41929, 41981, 42117, 42183, 42265, 42305, 42350, 42371, 42468, 42519, 42534, 42824, 42887, 42935, 42953, 42989, 43138, 43302, 43433, 43462, 43486, 43561, 43598, 43664, 43666, 43819, 43833, 43854, 43927, 44037, 44092, 44237, 44379, 44644, 44764, 45207, 45277, 45376, 45470, 45698, 45748, 45988, 46051, 46133, 46511, 46526, 46584, 46701, 47067, 47120, 47289, 47309, 47401, 47559, 47642, 47665, 47820, 47921, 48307, 48438, 48586, 48634, 48652, 48662, 48679, 48715, 48852, 48875, 48929, 49068, 49079, 49328, 49412, 49486, 49661, 49690, 49741, 49954, 49993, 50000, 50067, 50318, 50380, 50588, 50699, 50975, 51371, 51380, 51610, 51885, 51928, 52249, 52255, 52330, 52475, 52514, 52640, 52666, 52794, 52815, 52831, 52863, 52948, 53053, 53078, 53203, 53225, 53257, 53265, 53272, 53290, 53397, 53400, 53536, 53719, 53763, 53798, 53816, 53893, 53917, 54171, 54198, 54229, 54421, 54504, 54514, 54540, 54825, 54837, 55200, 55289, 55397, 55600, 55623, 55639, 55644, 55779, 55796, 55837, 55973, 55976, 56020, 56093, 56244, 56309, 56479, 56579, 56591, 56595, 56640, 56738, 56756, 56908, 56936, 57032, 57237, 57242, 57261, 57517, 57559, 57589, 57901, 57937, 58059, 58082, 58094, 58178, 58179, 58202, 58323, 58400, 58445, 58627, 58636, 58703, 58706, 58753, 58991, 59200, 59257, 59332, 59351, 59749, 60000, 60025, 60200, 60247, 60265, 60301, 60350, 60400, 60535, 60666, 60837, 61175, 61265, 61344, 61393, 61761, 62039, 62060, 62203, 62254, 62317, 62405, 62441, 62505, 62600, 63023, 63034, 63239, 63268, 63384, 63417, 63458, 63599, 63658, 63676, 63757, 63877, 63903, 63907, 63974, 63976, 64151, 64199, 64305, 64416, 64478, 64549, 64688, 64708, 64785, 64839, 64908, 64914, 65612, 65640, 65852, 65922, 65961, 66032, 66112, 66114, 66132, 66539, 66568, 66632, 66633, 66654, 66703, 66817, 66941, 66970, 66997, 67006, 67013, 67224, 67293, 67339, 67628, 67720, 67733, 67745, 67823, 67863, 67890, 67918, 68051, 68174, 68322, 68499, 68548, 68708, 68730, 68846, 68899, 68918, 69011, 69105, 69349, 69451, 69507, 69526, 69717, 69723, 70126, 70190, 70213, 70254, 70311, 70517, 70584, 70628, 70661, 70899, 70944, 71026, 71053, 71093, 71200, 71235, 71496, 72098, 72436, 72500, 72614, 72621, 72668, 72783, 72805, 72865, 73049, 73316, 73364, 73394, 73400, 73444, 73461, 73480, 73567, 73570, 73576, 73578, 73680, 73734, 73756, 73759, 73773, 73947, 74106, 74112, 74158, 74166, 74175, 74298, 74475, 74631, 74690, 74710, 74764, 74814, 74924, 75039, 75143, 75200, 75325, 75388, 75580, 75701, 75782, 75859, 75864, 75899, 75945, 76072, 76101, 76145, 76157, 76445, 76590, 76592, 76736, 76788, 76835, 76843, 76887, 76928, 76976, 76998, 77025, 77027, 77056, 77268, 77393, 77467, 77468, 77479, 77528, 77747, 77789, 77834, 77893, 77946, 78063, 78111, 78174, 78185, 78217, 78259, 78266, 78275, 78289, 78342, 78346, 78398, 78409, 78529, 78641, 78644, 78662, 78680, 78748, 78874, 79119, 79133, 79682, 79783, 79821, 79853, 79887, 79952, 79990, 80201, 80235, 80250, 80282, 80422, 80437, 80490, 80599, 80674, 80706, 80710, 80759, 80849, 81097, 81125, 81219, 81297, 81303, 81309, 81345, 81419, 81450, 81484, 81491, 81664, 81837, 81905, 82069, 82163, 82338, 82420, 82508, 82636, 82824, 82851, 82865, 82877, 82907, 83001, 83223, 83415, 83537, 83545, 83649, 83715, 83727, 83903, 84023, 84116, 84278, 84303, 84542, 84558, 84570, 84724, 84780, 84790, 85095, 85106, 85708, 85811, 85820, 85871, 85922, 85956, 85968, 86079, 86131, 86165, 86235, 86266, 86375, 86380, 86456, 86560, 86677, 86696, 86705, 86714, 86722, 86820, 86899, 86984, 87034, 87165, 87196, 87299, 87361, 87401, 87468, 87748, 87908, 87966, 88138, 88154, 88162, 88207, 88339, 88740, 88827, 88905, 88988, 89237, 89241, 89250, 89584, 89643, 89679, 89833, 89878, 89976, 90056, 90118, 90160, 90414, 90654, 90721, 90793, 90811, 91087, 91154, 91265, 91337, 91372, 91430, 91467, 91482, 91534, 91633, 91987, 92023, 92123, 92334, 92340, 92460, 92595, 92654, 92702, 92898, 92915, 92921, 93059, 93374, 93408, 93541, 93596, 93608, 93657, 93807, 94071, 94099, 94156, 94163, 94384, 94521, 94613, 94845, 95082, 95179, 95304, 95474, 95481, 95538, 95539, 95620, 95690, 95694, 95718, 95779, 95809, 96373, 96403, 96448, 96624, 96781, 96998, 97079, 97091, 97149, 97398, 97674, 97703, 97718, 97789, 97849, 97921, 97956, 97959, 97977, 98063, 98069, 98171, 98318, 98361, 98474, 98674, 98732, 98740, 98764, 98795, 98830, 98832, 98944, 99118, 99250, 99287, 99363, 99376, 99432, 99578, 99584, 99626, 99682, 100196, 100203, 100224, 100253, 100315, 100359, 100379, 100426, 100442, 100446, 100523, 100601, 100715, 100811, 100814, 101013, 101238, 101322, 101454, 101766, 101799, 102066, 102171, 102227, 102290, 102396, 102449, 102490, 102605, 102734, 102812, 102853, 103074, 103171, 103417, 103536, 103617, 103707, 103732, 103864, 103878, 103919, 104032, 104068, 104113, 104172, 104225, 104304, 104449, 104554, 104577, 104583, 104787, 104800, 104822, 105219, 105528, 105712, 105719, 105752, 105840, 105917, 105979, 106004, 106042, 106239, 106333, 106532, 106610, 106978, 107037, 107461, 107490, 107604, 107677, 107714, 107730, 107749, 107811, 108380, 108465, 108539, 108709, 108753, 108772, 109013, 109122, 109149, 109273, 109502, 109680, 109743, 109807, 109820, 109885, 109926, 109947, 110051, 110062, 110088, 110323, 110363, 110381, 110468, 110553, 110603, 110613, 110715, 110871, 110891, 110986, 111214, 111341, 111496, 111701, 111730, 111995, 112005, 112017, 112276, 112345, 112470, 112536, 112551, 112863, 112889, 112966, 113019, 113281, 113410, 113459, 113531, 113680, 113794, 113818, 113859, 113929, 114055, 114381, 114461, 114507, 114529, 114627, 114697, 114727, 114815, 114849, 114897, 115256, 115351, 115381, 115937, 115950, 116039, 116051, 116056, 116577, 116641, 116851, 117023, 117113, 117192, 117283, 117439, 117589, 117630, 117821, 117857, 117911, 117969, 118206, 118550, 118587, 118639, 118640, 118680, 118783, 118892, 118910, 119054, 119099, 119230, 119322, 119634, 119636, 119667, 119900, 119904, 119982, 119991, 120192, 120258, 120402, 120520, 120683, 120733, 120764, 120892, 121049, 121082, 121231, 121407, 121506, 121564, 121570, 121831, 121842, 121938, 122055, 122111, 122578, 122654, 122734, 122798, 122890, 123004, 123273, 123366, 123520, 123560, 123565, 123604, 123646, 123799, 123854, 123968, 124060, 124108, 124193, 124251, 124446, 124451, 124462, 124533, 124543, 124585, 124868, 125036, 125038, 125171, 125269, 125283, 125347, 125387, 125489, 125545, 125556, 125622, 125654, 125702, 125793, 125971, 126017, 126249, 126279, 126407, 126415, 126567, 126994, 127049, 127133, 127273, 127437, 127545, 127599, 127663, 127700, 127857, 127901, 128098, 128125, 128280, 128289, 128713, 128803, 128807, 128827, 129047, 129211, 129265, 129442, 129445, 129514, 129528, 129581, 129980, 129989, 130016, 130174, 130211, 130341, 130361, 130401, 130588, 130598, 130684, 130753, 130774, 130850, 130897, 130911, 131091, 131157, 131200, 131410, 131424, 131432, 131725, 131799, 131908, 131972, 131995, 132006, 132257, 132296, 132374, 132531, 132572, 132621, 132623, 132728, 132843, 132939, 133097, 133375, 133393, 133476, 133482, 133514, 133559, 133623, 133667, 133723, 133746, 134092, 134115, 134136, 134230, 134277, 134282, 134332, 134415, 134444, 134505, 134662, 134699, 135113, 135182, 135191, 135535, 135696, 135724, 135833, 135916, 135981, 136337, 136349, 136654, 136717, 136787, 136800, 136801, 136997, 137105, 137116, 137125, 137330, 137477, 137485, 137560, 137685, 137692, 137706, 137739, 137825, 137887, 137939, 138023, 138182, 138315, 138377, 138408, 138558, 138579, 138671, 138678, 138807, 138825, 138852, 139004, 139108, 139377, 139475, 139590, 139667, 139815, 139904, 139972, 140105, 140303, 140348, 140418, 140544, 140670, 140683, 140739, 141126, 141129, 141136, 141234, 141307, 141327, 141501, 141588, 141721, 141736, 141795, 141847, 141851, 142086, 142188, 142248, 142262, 142354, 142382, 142411, 142412, 142587, 142796, 142810, 142850, 142963, 142976, 143022, 143060, 143092, 143219, 143373, 143462, 143534, 143562, 143596, 143662, 143686, 143718, 143852, 143975, 144100, 144108, 144139, 144179, 144277, 144342, 144376, 144440, 144467, 144472, 144501, 144728, 144877, 145293, 145339, 145360, 145380, 145618, 145784, 145846, 146136, 146190, 146297, 146562, 146566, 146664, 146683, 146763, 146793, 146818, 146825, 146880, 147052, 147328, 147526, 147960, 147972, 148087, 148380, 148445, 148641, 148908, 148993, 149006, 149016, 149125, 149426, 149474, 149499, 149563, 149643, 149666, 149896, 149899, 149908, 149937, 150039, 150098, 150120, 150421, 150431, 150550, 150730, 150763, 150814, 150876, 150973, 151100, 151153, 151261, 151274, 151324, 151442, 151473, 151482, 151967, 152021, 152214, 152285, 152392, 152402, 152430, 152469, 152584, 152730, 152845, 152985, 153283, 153319, 153366, 153438, 153709, 153725, 153729, 153804, 153961, 154021, 154036, 154083, 154084, 154154, 154342, 154402, 154421, 154557, 154652, 154752, 154775, 155009, 155146, 155283, 155327, 155353, 155414, 155458, 155552, 155955, 156004, 156225, 156611, 156721, 156782, 156988, 157042, 157059, 157158, 157217, 157240, 157246, 157354, 157379, 157794, 158222, 158262, 158400, 158658, 158911, 158940, 159176, 159180, 159202, 159306, 159310, 159456, 159493, 159634, 159637, 159678, 159909, 159912, 160089, 160120, 160247, 160363, 160530, 160668, 160763, 160966, 161074, 161104, 161234, 161590, 161779, 161785, 161970, 161976, 162087, 162154, 162230, 162491, 162543, 162645, 162658, 162674, 162842, 162882, 163010, 163016, 163037, 163084, 163164, 163204, 163305, 163306, 163367, 163552, 163627, 163727, 163820, 163822, 163912, 163990, 164113, 164596, 164675, 164684, 164740, 164774, 164939, 164962, 165042, 165191, 165200, 165325, 165406, 165430, 165527, 165593, 165703, 165719, 165930, 166302, 166501, 166502, 166690, 166860, 166924, 166953, 166972, 167028, 167093, 167106, 167117, 167324, 167439, 167551, 167636, 167784, 167893, 167985, 168014, 168016, 168091, 168283, 168450, 168591, 168726, 169005, 169015, 169132, 169182, 169257, 169311, 169449, 169582, 169911, 170065, 170179, 170398, 170545, 170625, 170642, 170669, 170698, 170737, 170938, 171142, 171156, 171321, 171330, 171331, 171363, 171487, 171569, 171659, 171730, 171840, 171994, 172006, 172176, 172289, 172477, 172556, 172568, 172861, 173202, 173273, 173493, 173495, 173502, 173547, 173618, 174104, 174131, 174385, 174414, 174488, 174536, 174556, 174841, 174857, 175079, 175122, 175252, 175323, 175462, 175490, 175536, 175539, 175697, 175700, 175729, 175818, 175848, 175892, 176277, 176675, 176740, 177085, 177216, 177295, 177330, 177344, 177460, 177646, 177777, 178180, 178229, 178478, 178540, 178826, 178841, 179093, 179152, 179220, 179299, 179400, 179504, 179573, 179616, 179666, 179687, 179692, 179741, 179809, 179824, 179860, 179898, 179954, 179975, 180194, 180312, 180405, 180428, 180462, 180610, 180825, 180911, 180975, 180979, 181069, 181173, 181222, 181462, 181468, 181514, 181595, 181691, 181712, 181723, 181734, 181740, 181816, 181858, 181959, 182088, 182180, 182303, 182534, 182774, 182863, 183001, 183033, 183101, 183113, 183150, 183186, 183234, 183252, 183321, 183354, 183356, 183391, 183555, 183608, 183700, 183729, 183967, 184074, 184082, 184201, 184242, 184304, 184516, 184663, 184887, 185067, 185215, 185315, 185337, 185345, 185455, 185546, 185594, 185728, 185740, 185902, 185934, 185973, 186044, 186047, 186059, 186151, 186263, 186361, 186457, 186468, 186501, 186553, 187035, 187080, 187088, 187257, 187447, 187582, 187677, 187717, 187797, 187857, 188111, 188300, 188403, 188563, 188694, 188852, 188953, 189048, 189112, 189122, 189602, 189645, 189801, 189944, 190175, 190212, 190235, 190242, 190278, 190337, 190361, 190520, 190713, 190730, 190734, 190927, 190941, 190992, 191064, 191086, 191220, 191259, 191453, 191516, 191754, 191817, 191841, 191848, 191902, 191904, 191914, 192153, 192223, 192276, 192339, 192588, 192655, 192673, 192716, 192858, 192902, 192939, 193050, 193111, 193301, 193393, 193420, 193488, 193514, 193524, 193590, 193709, 193799, 193885, 193948, 193962, 194318, 194336, 194452, 194563, 194586, 194606, 194609, 194620, 194631, 194639, 194658, 194682, 195038, 195090, 195103, 195246, 195292, 195310, 195619, 195695, 195714, 195756, 195761, 195763, 196087, 196206, 196553, 196746, 196932, 196996, 197140, 197208, 197377, 197417, 197557, 197603, 197637, 197759, 197859, 197873, 198049, 198123, 198213, 198413, 198564, 198686, 198813, 198849, 198999, 199105, 199111, 199117, 199528, 199534, 199850, 199962]\n"
     ]
    }
   ],
   "source": [
    "print('Number of overlaps:', len(overlapTestTrain.keys()))\n",
    "%time displayOverlap(overlapTestTrain, test_dataset[:200], train_dataset)"
   ]
  },
  {
   "cell_type": "code",
   "execution_count": null,
   "metadata": {
    "collapsed": true
   },
   "outputs": [],
   "source": [
    "def sanetizer(dataset1, dataset2, labels1):\n",
    "    datasetHash1 = np.array([hashlib.sha256(img).hexdigest() for img in dataset1])\n",
    "    datasetHash2 = np.array([hashlib.sha256(img).hexdigest() for img in dataset2])\n",
    "    overlap = []\n",
    "    for i, hash1 in enumerate(datasetHash1):\n",
    "        duplicates = np.where(datasetHash2 == hash1)\n",
    "        if len(duplicates[0]):\n",
    "            overlap.append(i)\n",
    "    return np.delete(dataset_1, overlap, 0), np.delete(labels_1, overlap, None)"
   ]
  },
  {
   "cell_type": "code",
   "execution_count": null,
   "metadata": {
    "collapsed": true
   },
   "outputs": [],
   "source": [
    "pickle_file_sanit = 'notMNIST_sanit.pickle'\n",
    "\n",
    "try:\n",
    "    f = open(pickle_file_sanit, 'wb')\n",
    "    save = {\n",
    "        'train_dataset': train_dataset,\n",
    "        'train_labels': train_labels,\n",
    "        'valid_dataset': valid_dataset_sanit,\n",
    "        'valid_labels': valid_labels_sanit,\n",
    "        'test_dataset': test_dataset_sanit,\n",
    "        'test_labels': test_labels_sanit,\n",
    "    }\n",
    "    pickle.dump(save, f, pickle.HIGHEST_PROTOCOL)\n",
    "    f.close()\n",
    "except Exception as e:\n",
    "    print('Unable to save data to', pickle_file, ':', e)\n",
    "    raise"
   ]
  },
  {
   "cell_type": "code",
   "execution_count": null,
   "metadata": {
    "collapsed": true
   },
   "outputs": [],
   "source": [
    "statinfo = os.stat(pickle_file_sanit)\n",
    "print('Compressed pickle size:', statinfo.st_size)"
   ]
  },
  {
   "cell_type": "markdown",
   "metadata": {
    "colab_type": "text",
    "id": "L8oww1s4JMQx"
   },
   "source": [
    "---\n",
    "Problem 6\n",
    "---------\n",
    "\n",
    "Let's get an idea of what an off-the-shelf classifier can give you on this data. It's always good to check that there is something to learn, and that it's a problem that is not so trivial that a canned solution solves it.\n",
    "\n",
    "Train a simple model on this data using 50, 100, 1000 and 5000 training samples. Hint: you can use the LogisticRegression model from sklearn.linear_model.\n",
    "\n",
    "Optional question: train an off-the-shelf model on all the data!\n",
    "\n",
    "---"
   ]
  },
  {
   "cell_type": "code",
   "execution_count": null,
   "metadata": {
    "collapsed": true
   },
   "outputs": [],
   "source": [
    "regr = LogisticRegression()\n",
    "Xtest = test_dataset.reshape(test_dataset.shape[0], 28 * 28)\n",
    "ytest = test_labels"
   ]
  },
  {
   "cell_type": "code",
   "execution_count": null,
   "metadata": {
    "collapsed": true
   },
   "outputs": [],
   "source": [
    "sample_size = 50\n",
    "Xtrain = train_dataset[:sample_size].reshape(sample_size, 784)\n",
    "ytrain = train_labels[:sample_size]\n",
    "%time regr.fit(Xtrain, ytrain)\n",
    "regr.score(Xtest, ytest)"
   ]
  },
  {
   "cell_type": "code",
   "execution_count": null,
   "metadata": {
    "collapsed": true
   },
   "outputs": [],
   "source": [
    "pred_labels = regr.predict(X_test)\n",
    "disp_sample_dataset(test_dataset, pred_labels)"
   ]
  }
 ],
 "metadata": {
  "colab": {
   "default_view": {},
   "name": "1_notmnist.ipynb",
   "provenance": [],
   "version": "0.3.2",
   "views": {}
  },
  "kernelspec": {
   "display_name": "Python 3",
   "language": "python",
   "name": "python3"
  },
  "language_info": {
   "codemirror_mode": {
    "name": "ipython",
    "version": 3
   },
   "file_extension": ".py",
   "mimetype": "text/x-python",
   "name": "python",
   "nbconvert_exporter": "python",
   "pygments_lexer": "ipython3",
   "version": "3.5.2"
  }
 },
 "nbformat": 4,
 "nbformat_minor": 0
}
